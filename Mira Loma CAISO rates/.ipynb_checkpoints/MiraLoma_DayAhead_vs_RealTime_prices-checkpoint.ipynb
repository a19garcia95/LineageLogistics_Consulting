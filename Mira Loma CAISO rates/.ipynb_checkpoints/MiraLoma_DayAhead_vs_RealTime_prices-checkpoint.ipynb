{
 "cells": [
  {
   "cell_type": "code",
   "execution_count": 1,
   "metadata": {},
   "outputs": [],
   "source": [
    "import xmltodict\n",
    "import requests\n",
    "import zipfile\n",
    "import io\n",
    "import os\n",
    "from datetime import datetime, timedelta, timezone\n",
    "from pytz import timezone, utc\n",
    "import pandas as pd\n",
    "import matplotlib.pyplot as plt\n",
    "import pickle\n",
    "import time\n",
    "from tqdm import tqdm\n",
    "from glob import glob"
   ]
  },
  {
   "cell_type": "code",
   "execution_count": 2,
   "metadata": {},
   "outputs": [],
   "source": [
    "#pick a time range.                   \n",
    "t0 = timezone('US/Pacific').localize(datetime(2018,7, 1, 0))\n",
    "tf = timezone('US/Pacific').localize(datetime(2018,8, 1, 0))\n",
    "assert tf > t0, \"time has an arrow\"\n",
    "assert t0.hour == 0 and tf.hour == 0"
   ]
  },
  {
   "cell_type": "code",
   "execution_count": null,
   "metadata": {},
   "outputs": [],
   "source": [
    "#define the class to make the 'get' request\n",
    "#This code uses the documentation specific in \"Interface Specification for OASIS\" provided by CAISO\n",
    "class CaisoRateWorker:\n",
    "\n",
    "    def __init__(self):\n",
    "        self.t_now = utc.localize(datetime.now())\n",
    "        pass\n",
    "    \n",
    "    def get_historical_zips(self,t0,tf,market):\n",
    "        assert tf < self.t_now, \"tf is in the future. Use 'group_future_queries'\"\n",
    "        assert market == 'Day_Ahead'or market == '5min_Real_Time' or market == '15min_Real_Time'\n",
    "        # create a new directory to put our results in\n",
    "        path = ('./' + str(t0.year) + '/oasis_results/' + market + '/')\n",
    "        print(path)\n",
    "        if not os.path.exists(path):\n",
    "            os.makedirs(path)\n",
    "        #break the API call into 15 month chunks for zip file storage\n",
    "        t_list = self.chunkify(t0,tf)\n",
    "        for times in t_list:\n",
    "            if market == 'Day_Ahead':\n",
    "                fname = (times[0].strftime(\"%Y%m%d\") + \"_\" + times[1].strftime(\"%Y%m%d\") + \"_\" + 'PRC_LMP_DAM')\n",
    "            elif market == '5min_Real_Time':\n",
    "                fname = (times[0].strftime(\"%Y%m%d\") + \"_\" + times[1].strftime(\"%Y%m%d\") + \"_\" + 'PRC_INTVL_LMP')\n",
    "            elif market == '15min_Real_Time':\n",
    "                fname = (times[0].strftime(\"%Y%m%d\") + \"_\" + times[1].strftime(\"%Y%m%d\") + \"_\" + 'PRC_RTPD_LMP')\n",
    "            \n",
    "            #check if we have the zip file already\n",
    "            exists = glob((path + fname + '*')) \n",
    "            if len(exists) > 0:\n",
    "                print('Already have the zip file for ' + fname)\n",
    "                continue\n",
    "            else:\n",
    "                start_time = times[0].strftime(\"%Y%m%dT%H:%M%z\")\n",
    "                end_time = times[1].strftime(\"%Y%m%dT%H:%M%z\")\n",
    "                print(\"grabbing \" + fname)\n",
    "                request = self.get_data(start_time,end_time,market)\n",
    "                self.save_zip(request,path)\n",
    "\n",
    "            \n",
    "    def get_data(self,start_time,end_time,market):\n",
    "        try:\n",
    "            ('Day_Ahead','5min_Real_Time','15min_Real_Time',).index(market)\n",
    "        except ValueError:\n",
    "            print('Only valid options are Day_Ahead and Real_Time')\n",
    "        if market == 'Day_Ahead':\n",
    "            self.query_name = 'PRC_LMP'\n",
    "            self.market_id = 'DAM'\n",
    "        elif market == '5min_Real_Time':\n",
    "            self.query_name = 'PRC_INTVL_LMP'\n",
    "            self.market_id = 'RTM'\n",
    "        elif market == '15min_Real_Time':\n",
    "            self.query_name = 'PRC_RTPD_LMP'\n",
    "            self.market_id = 'RTPD'\n",
    "        \n",
    "        query = (\"http://oasis.caiso.com/oasisapi/SingleZip?\" +\n",
    "                         \"queryname=\" + \n",
    "                          self.query_name + \"&\" + \n",
    "                         \"startdatetime={}&\" +\n",
    "                         \"enddatetime={}&\" + \n",
    "                         \"market_run_id=\" + \n",
    "                          self.market_id + \"&\" + \n",
    "                         \"version=1&\" + \n",
    "                         \"node=DLAP_SCE-APND\")\n",
    "        \n",
    "        request = requests.get(query.format(start_time, end_time), stream=True)\n",
    "        #need to wait 5 seconds between queries\n",
    "        time.sleep(5)\n",
    "        print('status code: ', request.status_code)\n",
    "        if request.status_code != 200:\n",
    "            print(request.text)\n",
    "        assert request.status_code == 200, request.status_code #429 ERROR CODE TOO MAY API REQUEST\n",
    "        return request\n",
    "    \n",
    "    def save_zip(self, request, path):\n",
    "        # create directory for zip files if it doesn't exist\n",
    "        if not os.path.exists(path):\n",
    "            os.makedirs(path)\n",
    "            \n",
    "        #makes sure we have the raw data we need\n",
    "        dat = io.BytesIO(request.content)\n",
    "        assert zipfile.is_zipfile(dat) == True\n",
    "        z = zipfile.ZipFile(dat)\n",
    "        fname = z.namelist()[0]\n",
    "        z.extractall(path)\n",
    "        print(\"Saved \" + fname)\n",
    "\n",
    "    def organize(self,market):\n",
    "        periods = {}\n",
    "        path = ('./oasis_results/' + market + '/')\n",
    "        for file in glob((path + \"*.xml\")):\n",
    "            with open(file) as f:\n",
    "                contents = f.read()\n",
    "                xml_dict = xmltodict.parse(contents)\n",
    "                \n",
    "                for report in xml_dict['OASISReport']['MessagePayload']['RTO']['REPORT_ITEM']:\n",
    "                    #<class 'collections.OrderedDict'> shows up and bugs the code??\n",
    "                    if isinstance(report['REPORT_DATA'], list) == False:\n",
    "                        continue\n",
    "                            \n",
    "                    for data in report['REPORT_DATA']:\n",
    "                        if data['DATA_ITEM'] != 'LMP_PRC':\n",
    "                            continue\n",
    "                        \n",
    "                        #This API returns timezones in UTC\n",
    "                        key = datetime.strptime(data['INTERVAL_START_GMT'][:16],\"%Y-%m-%dT%H:%M\")\n",
    "                        if key not in periods:\n",
    "                            periods[key] = {\n",
    "                            'rate_start': data['INTERVAL_START_GMT'][:16],\n",
    "                            'rate_end': data['INTERVAL_END_GMT'][:16],\n",
    "                            'rate': data['VALUE']\n",
    "                        }\n",
    "        return periods\n",
    "    \n",
    "    def to_dataframe(self,data):\n",
    "        df = pd.DataFrame.from_dict(data,orient=\"index\")\n",
    "        #just use rate start as index and convert rates to floats\n",
    "        df_f = pd.to_numeric(df['rate'],errors='ignore')\n",
    "        return df_f\n",
    "    \n",
    "    def chunkify(self,t0,tf):\n",
    "        #only deal with data in the same year for now\n",
    "        assert t0.year == tf.year, \"let's do this year by year\"\n",
    "        t_list = []\n",
    "        \n",
    "        #always start at the beginning of the month\n",
    "        t0_get = t0.replace(day=1,hour=0)\n",
    "        #for data within a month\n",
    "        if tf.month == t0.month and tf.month == 12:\n",
    "            tf_get = tf.replace(year = tf.year + 1, month = 1, day=1,hour=0)\n",
    "        \n",
    "        elif tf.month == t0.month and tf.month != 12:\n",
    "            tf_get = tf.replace(month = tf.month + 1, day=1,hour=0)\n",
    "        #for data in different months\n",
    "        else:\n",
    "            if tf.month != 12:\n",
    "                tf_get = tf.replace(month = tf.month + 1, day=1,hour=0)\n",
    "            else:\n",
    "                tf_get = tf.replace(year = tf.year + 1, month = 1, day=1,hour=0)\n",
    "        \n",
    "        #break the API call into 15 day chunks\n",
    "        val = pd.date_range(start=t0_get, end=tf_get, freq=pd.offsets.SemiMonthBegin())\n",
    "        \n",
    "        for i in range(len(val)-1):\n",
    "            t_list.append((val[i] ,val[i+1]))\n",
    "        \n",
    "        return t_list\n"
   ]
  },
  {
   "cell_type": "code",
   "execution_count": null,
   "metadata": {},
   "outputs": [],
   "source": [
    "#instantiate the API class\n",
    "API = CaisoRateWorker()"
   ]
  },
  {
   "cell_type": "code",
   "execution_count": 8,
   "metadata": {
    "scrolled": true
   },
   "outputs": [
    {
     "name": "stdout",
     "output_type": "stream",
     "text": [
      "2018./oasis_results/Day_Ahead/\n",
      "grabbing 20180701_20180715_PRC_LMP_DAM\n",
      "status code:  200\n",
      "Saved 20180701_20180715_PRC_LMP_DAM_20190410_16_37_11_v1.xml\n",
      "grabbing 20180715_20180801_PRC_LMP_DAM\n",
      "status code:  200\n",
      "Saved 20180715_20180801_PRC_LMP_DAM_20190410_16_37_28_v1.xml\n",
      "grabbing 20180801_20180815_PRC_LMP_DAM\n"
     ]
    },
    {
     "ename": "KeyboardInterrupt",
     "evalue": "",
     "output_type": "error",
     "traceback": [
      "\u001b[0;31m---------------------------------------------------------------------------\u001b[0m",
      "\u001b[0;31mTypeError\u001b[0m                                 Traceback (most recent call last)",
      "\u001b[0;32m/Library/Frameworks/Python.framework/Versions/3.6/lib/python3.6/site-packages/requests/packages/urllib3/connectionpool.py\u001b[0m in \u001b[0;36m_make_request\u001b[0;34m(self, conn, method, url, timeout, chunked, **httplib_request_kw)\u001b[0m\n\u001b[1;32m    385\u001b[0m             \u001b[0;32mtry\u001b[0m\u001b[0;34m:\u001b[0m  \u001b[0;31m# Python 2.7, use buffering of HTTP responses\u001b[0m\u001b[0;34m\u001b[0m\u001b[0m\n\u001b[0;32m--> 386\u001b[0;31m                 \u001b[0mhttplib_response\u001b[0m \u001b[0;34m=\u001b[0m \u001b[0mconn\u001b[0m\u001b[0;34m.\u001b[0m\u001b[0mgetresponse\u001b[0m\u001b[0;34m(\u001b[0m\u001b[0mbuffering\u001b[0m\u001b[0;34m=\u001b[0m\u001b[0;32mTrue\u001b[0m\u001b[0;34m)\u001b[0m\u001b[0;34m\u001b[0m\u001b[0m\n\u001b[0m\u001b[1;32m    387\u001b[0m             \u001b[0;32mexcept\u001b[0m \u001b[0mTypeError\u001b[0m\u001b[0;34m:\u001b[0m  \u001b[0;31m# Python 2.6 and older, Python 3\u001b[0m\u001b[0;34m\u001b[0m\u001b[0m\n",
      "\u001b[0;31mTypeError\u001b[0m: getresponse() got an unexpected keyword argument 'buffering'",
      "\nDuring handling of the above exception, another exception occurred:\n",
      "\u001b[0;31mKeyboardInterrupt\u001b[0m                         Traceback (most recent call last)",
      "\u001b[0;32m<ipython-input-8-de71e6766ffd>\u001b[0m in \u001b[0;36m<module>\u001b[0;34m()\u001b[0m\n\u001b[1;32m      1\u001b[0m \u001b[0;31m#Day Ahead price\u001b[0m\u001b[0;34m\u001b[0m\u001b[0;34m\u001b[0m\u001b[0m\n\u001b[0;32m----> 2\u001b[0;31m \u001b[0mDAM_zips\u001b[0m \u001b[0;34m=\u001b[0m \u001b[0mAPI\u001b[0m\u001b[0;34m.\u001b[0m\u001b[0mget_historical_zips\u001b[0m\u001b[0;34m(\u001b[0m\u001b[0mt0\u001b[0m\u001b[0;34m,\u001b[0m\u001b[0mtf\u001b[0m\u001b[0;34m,\u001b[0m\u001b[0mmarket\u001b[0m\u001b[0;34m=\u001b[0m\u001b[0;34m'Day_Ahead'\u001b[0m\u001b[0;34m)\u001b[0m\u001b[0;34m\u001b[0m\u001b[0m\n\u001b[0m",
      "\u001b[0;32m<ipython-input-6-11f2e794f2d3>\u001b[0m in \u001b[0;36mget_historical_zips\u001b[0;34m(self, t0, tf, market)\u001b[0m\n\u001b[1;32m     34\u001b[0m                 \u001b[0mend_time\u001b[0m \u001b[0;34m=\u001b[0m \u001b[0mtimes\u001b[0m\u001b[0;34m[\u001b[0m\u001b[0;36m1\u001b[0m\u001b[0;34m]\u001b[0m\u001b[0;34m.\u001b[0m\u001b[0mstrftime\u001b[0m\u001b[0;34m(\u001b[0m\u001b[0;34m\"%Y%m%dT%H:%M%z\"\u001b[0m\u001b[0;34m)\u001b[0m\u001b[0;34m\u001b[0m\u001b[0m\n\u001b[1;32m     35\u001b[0m                 \u001b[0mprint\u001b[0m\u001b[0;34m(\u001b[0m\u001b[0;34m\"grabbing \"\u001b[0m \u001b[0;34m+\u001b[0m \u001b[0mfname\u001b[0m\u001b[0;34m)\u001b[0m\u001b[0;34m\u001b[0m\u001b[0m\n\u001b[0;32m---> 36\u001b[0;31m                 \u001b[0mrequest\u001b[0m \u001b[0;34m=\u001b[0m \u001b[0mself\u001b[0m\u001b[0;34m.\u001b[0m\u001b[0mget_data\u001b[0m\u001b[0;34m(\u001b[0m\u001b[0mstart_time\u001b[0m\u001b[0;34m,\u001b[0m\u001b[0mend_time\u001b[0m\u001b[0;34m,\u001b[0m\u001b[0mmarket\u001b[0m\u001b[0;34m)\u001b[0m\u001b[0;34m\u001b[0m\u001b[0m\n\u001b[0m\u001b[1;32m     37\u001b[0m                 \u001b[0mself\u001b[0m\u001b[0;34m.\u001b[0m\u001b[0msave_zip\u001b[0m\u001b[0;34m(\u001b[0m\u001b[0mrequest\u001b[0m\u001b[0;34m,\u001b[0m\u001b[0mpath\u001b[0m\u001b[0;34m)\u001b[0m\u001b[0;34m\u001b[0m\u001b[0m\n\u001b[1;32m     38\u001b[0m \u001b[0;34m\u001b[0m\u001b[0m\n",
      "\u001b[0;32m<ipython-input-6-11f2e794f2d3>\u001b[0m in \u001b[0;36mget_data\u001b[0;34m(self, start_time, end_time, market)\u001b[0m\n\u001b[1;32m     63\u001b[0m                          \"node=DLAP_SCE-APND\")\n\u001b[1;32m     64\u001b[0m \u001b[0;34m\u001b[0m\u001b[0m\n\u001b[0;32m---> 65\u001b[0;31m         \u001b[0mrequest\u001b[0m \u001b[0;34m=\u001b[0m \u001b[0mrequests\u001b[0m\u001b[0;34m.\u001b[0m\u001b[0mget\u001b[0m\u001b[0;34m(\u001b[0m\u001b[0mquery\u001b[0m\u001b[0;34m.\u001b[0m\u001b[0mformat\u001b[0m\u001b[0;34m(\u001b[0m\u001b[0mstart_time\u001b[0m\u001b[0;34m,\u001b[0m \u001b[0mend_time\u001b[0m\u001b[0;34m)\u001b[0m\u001b[0;34m,\u001b[0m \u001b[0mstream\u001b[0m\u001b[0;34m=\u001b[0m\u001b[0;32mTrue\u001b[0m\u001b[0;34m)\u001b[0m\u001b[0;34m\u001b[0m\u001b[0m\n\u001b[0m\u001b[1;32m     66\u001b[0m         \u001b[0;31m#need to wait 5 seconds between queries\u001b[0m\u001b[0;34m\u001b[0m\u001b[0;34m\u001b[0m\u001b[0m\n\u001b[1;32m     67\u001b[0m         \u001b[0mtime\u001b[0m\u001b[0;34m.\u001b[0m\u001b[0msleep\u001b[0m\u001b[0;34m(\u001b[0m\u001b[0;36m5\u001b[0m\u001b[0;34m)\u001b[0m\u001b[0;34m\u001b[0m\u001b[0m\n",
      "\u001b[0;32m/Library/Frameworks/Python.framework/Versions/3.6/lib/python3.6/site-packages/requests/api.py\u001b[0m in \u001b[0;36mget\u001b[0;34m(url, params, **kwargs)\u001b[0m\n\u001b[1;32m     68\u001b[0m \u001b[0;34m\u001b[0m\u001b[0m\n\u001b[1;32m     69\u001b[0m     \u001b[0mkwargs\u001b[0m\u001b[0;34m.\u001b[0m\u001b[0msetdefault\u001b[0m\u001b[0;34m(\u001b[0m\u001b[0;34m'allow_redirects'\u001b[0m\u001b[0;34m,\u001b[0m \u001b[0;32mTrue\u001b[0m\u001b[0;34m)\u001b[0m\u001b[0;34m\u001b[0m\u001b[0m\n\u001b[0;32m---> 70\u001b[0;31m     \u001b[0;32mreturn\u001b[0m \u001b[0mrequest\u001b[0m\u001b[0;34m(\u001b[0m\u001b[0;34m'get'\u001b[0m\u001b[0;34m,\u001b[0m \u001b[0murl\u001b[0m\u001b[0;34m,\u001b[0m \u001b[0mparams\u001b[0m\u001b[0;34m=\u001b[0m\u001b[0mparams\u001b[0m\u001b[0;34m,\u001b[0m \u001b[0;34m**\u001b[0m\u001b[0mkwargs\u001b[0m\u001b[0;34m)\u001b[0m\u001b[0;34m\u001b[0m\u001b[0m\n\u001b[0m\u001b[1;32m     71\u001b[0m \u001b[0;34m\u001b[0m\u001b[0m\n\u001b[1;32m     72\u001b[0m \u001b[0;34m\u001b[0m\u001b[0m\n",
      "\u001b[0;32m/Library/Frameworks/Python.framework/Versions/3.6/lib/python3.6/site-packages/requests/api.py\u001b[0m in \u001b[0;36mrequest\u001b[0;34m(method, url, **kwargs)\u001b[0m\n\u001b[1;32m     54\u001b[0m     \u001b[0;31m# cases, and look like a memory leak in others.\u001b[0m\u001b[0;34m\u001b[0m\u001b[0;34m\u001b[0m\u001b[0m\n\u001b[1;32m     55\u001b[0m     \u001b[0;32mwith\u001b[0m \u001b[0msessions\u001b[0m\u001b[0;34m.\u001b[0m\u001b[0mSession\u001b[0m\u001b[0;34m(\u001b[0m\u001b[0;34m)\u001b[0m \u001b[0;32mas\u001b[0m \u001b[0msession\u001b[0m\u001b[0;34m:\u001b[0m\u001b[0;34m\u001b[0m\u001b[0m\n\u001b[0;32m---> 56\u001b[0;31m         \u001b[0;32mreturn\u001b[0m \u001b[0msession\u001b[0m\u001b[0;34m.\u001b[0m\u001b[0mrequest\u001b[0m\u001b[0;34m(\u001b[0m\u001b[0mmethod\u001b[0m\u001b[0;34m=\u001b[0m\u001b[0mmethod\u001b[0m\u001b[0;34m,\u001b[0m \u001b[0murl\u001b[0m\u001b[0;34m=\u001b[0m\u001b[0murl\u001b[0m\u001b[0;34m,\u001b[0m \u001b[0;34m**\u001b[0m\u001b[0mkwargs\u001b[0m\u001b[0;34m)\u001b[0m\u001b[0;34m\u001b[0m\u001b[0m\n\u001b[0m\u001b[1;32m     57\u001b[0m \u001b[0;34m\u001b[0m\u001b[0m\n\u001b[1;32m     58\u001b[0m \u001b[0;34m\u001b[0m\u001b[0m\n",
      "\u001b[0;32m/Library/Frameworks/Python.framework/Versions/3.6/lib/python3.6/site-packages/requests/sessions.py\u001b[0m in \u001b[0;36mrequest\u001b[0;34m(self, method, url, params, data, headers, cookies, files, auth, timeout, allow_redirects, proxies, hooks, stream, verify, cert, json)\u001b[0m\n\u001b[1;32m    473\u001b[0m         }\n\u001b[1;32m    474\u001b[0m         \u001b[0msend_kwargs\u001b[0m\u001b[0;34m.\u001b[0m\u001b[0mupdate\u001b[0m\u001b[0;34m(\u001b[0m\u001b[0msettings\u001b[0m\u001b[0;34m)\u001b[0m\u001b[0;34m\u001b[0m\u001b[0m\n\u001b[0;32m--> 475\u001b[0;31m         \u001b[0mresp\u001b[0m \u001b[0;34m=\u001b[0m \u001b[0mself\u001b[0m\u001b[0;34m.\u001b[0m\u001b[0msend\u001b[0m\u001b[0;34m(\u001b[0m\u001b[0mprep\u001b[0m\u001b[0;34m,\u001b[0m \u001b[0;34m**\u001b[0m\u001b[0msend_kwargs\u001b[0m\u001b[0;34m)\u001b[0m\u001b[0;34m\u001b[0m\u001b[0m\n\u001b[0m\u001b[1;32m    476\u001b[0m \u001b[0;34m\u001b[0m\u001b[0m\n\u001b[1;32m    477\u001b[0m         \u001b[0;32mreturn\u001b[0m \u001b[0mresp\u001b[0m\u001b[0;34m\u001b[0m\u001b[0m\n",
      "\u001b[0;32m/Library/Frameworks/Python.framework/Versions/3.6/lib/python3.6/site-packages/requests/sessions.py\u001b[0m in \u001b[0;36msend\u001b[0;34m(self, request, **kwargs)\u001b[0m\n\u001b[1;32m    594\u001b[0m \u001b[0;34m\u001b[0m\u001b[0m\n\u001b[1;32m    595\u001b[0m         \u001b[0;31m# Send the request\u001b[0m\u001b[0;34m\u001b[0m\u001b[0;34m\u001b[0m\u001b[0m\n\u001b[0;32m--> 596\u001b[0;31m         \u001b[0mr\u001b[0m \u001b[0;34m=\u001b[0m \u001b[0madapter\u001b[0m\u001b[0;34m.\u001b[0m\u001b[0msend\u001b[0m\u001b[0;34m(\u001b[0m\u001b[0mrequest\u001b[0m\u001b[0;34m,\u001b[0m \u001b[0;34m**\u001b[0m\u001b[0mkwargs\u001b[0m\u001b[0;34m)\u001b[0m\u001b[0;34m\u001b[0m\u001b[0m\n\u001b[0m\u001b[1;32m    597\u001b[0m \u001b[0;34m\u001b[0m\u001b[0m\n\u001b[1;32m    598\u001b[0m         \u001b[0;31m# Total elapsed time of the request (approximately)\u001b[0m\u001b[0;34m\u001b[0m\u001b[0;34m\u001b[0m\u001b[0m\n",
      "\u001b[0;32m/Library/Frameworks/Python.framework/Versions/3.6/lib/python3.6/site-packages/requests/adapters.py\u001b[0m in \u001b[0;36msend\u001b[0;34m(self, request, stream, timeout, verify, cert, proxies)\u001b[0m\n\u001b[1;32m    421\u001b[0m                     \u001b[0mdecode_content\u001b[0m\u001b[0;34m=\u001b[0m\u001b[0;32mFalse\u001b[0m\u001b[0;34m,\u001b[0m\u001b[0;34m\u001b[0m\u001b[0m\n\u001b[1;32m    422\u001b[0m                     \u001b[0mretries\u001b[0m\u001b[0;34m=\u001b[0m\u001b[0mself\u001b[0m\u001b[0;34m.\u001b[0m\u001b[0mmax_retries\u001b[0m\u001b[0;34m,\u001b[0m\u001b[0;34m\u001b[0m\u001b[0m\n\u001b[0;32m--> 423\u001b[0;31m                     \u001b[0mtimeout\u001b[0m\u001b[0;34m=\u001b[0m\u001b[0mtimeout\u001b[0m\u001b[0;34m\u001b[0m\u001b[0m\n\u001b[0m\u001b[1;32m    424\u001b[0m                 )\n\u001b[1;32m    425\u001b[0m \u001b[0;34m\u001b[0m\u001b[0m\n",
      "\u001b[0;32m/Library/Frameworks/Python.framework/Versions/3.6/lib/python3.6/site-packages/requests/packages/urllib3/connectionpool.py\u001b[0m in \u001b[0;36murlopen\u001b[0;34m(self, method, url, body, headers, retries, redirect, assert_same_host, timeout, pool_timeout, release_conn, chunked, **response_kw)\u001b[0m\n\u001b[1;32m    593\u001b[0m                                                   \u001b[0mtimeout\u001b[0m\u001b[0;34m=\u001b[0m\u001b[0mtimeout_obj\u001b[0m\u001b[0;34m,\u001b[0m\u001b[0;34m\u001b[0m\u001b[0m\n\u001b[1;32m    594\u001b[0m                                                   \u001b[0mbody\u001b[0m\u001b[0;34m=\u001b[0m\u001b[0mbody\u001b[0m\u001b[0;34m,\u001b[0m \u001b[0mheaders\u001b[0m\u001b[0;34m=\u001b[0m\u001b[0mheaders\u001b[0m\u001b[0;34m,\u001b[0m\u001b[0;34m\u001b[0m\u001b[0m\n\u001b[0;32m--> 595\u001b[0;31m                                                   chunked=chunked)\n\u001b[0m\u001b[1;32m    596\u001b[0m \u001b[0;34m\u001b[0m\u001b[0m\n\u001b[1;32m    597\u001b[0m             \u001b[0;31m# If we're going to release the connection in ``finally:``, then\u001b[0m\u001b[0;34m\u001b[0m\u001b[0;34m\u001b[0m\u001b[0m\n",
      "\u001b[0;32m/Library/Frameworks/Python.framework/Versions/3.6/lib/python3.6/site-packages/requests/packages/urllib3/connectionpool.py\u001b[0m in \u001b[0;36m_make_request\u001b[0;34m(self, conn, method, url, timeout, chunked, **httplib_request_kw)\u001b[0m\n\u001b[1;32m    387\u001b[0m             \u001b[0;32mexcept\u001b[0m \u001b[0mTypeError\u001b[0m\u001b[0;34m:\u001b[0m  \u001b[0;31m# Python 2.6 and older, Python 3\u001b[0m\u001b[0;34m\u001b[0m\u001b[0m\n\u001b[1;32m    388\u001b[0m                 \u001b[0;32mtry\u001b[0m\u001b[0;34m:\u001b[0m\u001b[0;34m\u001b[0m\u001b[0m\n\u001b[0;32m--> 389\u001b[0;31m                     \u001b[0mhttplib_response\u001b[0m \u001b[0;34m=\u001b[0m \u001b[0mconn\u001b[0m\u001b[0;34m.\u001b[0m\u001b[0mgetresponse\u001b[0m\u001b[0;34m(\u001b[0m\u001b[0;34m)\u001b[0m\u001b[0;34m\u001b[0m\u001b[0m\n\u001b[0m\u001b[1;32m    390\u001b[0m                 \u001b[0;32mexcept\u001b[0m \u001b[0mException\u001b[0m \u001b[0;32mas\u001b[0m \u001b[0me\u001b[0m\u001b[0;34m:\u001b[0m\u001b[0;34m\u001b[0m\u001b[0m\n\u001b[1;32m    391\u001b[0m                     \u001b[0;31m# Remove the TypeError from the exception chain in Python 3;\u001b[0m\u001b[0;34m\u001b[0m\u001b[0;34m\u001b[0m\u001b[0m\n",
      "\u001b[0;32m/Library/Frameworks/Python.framework/Versions/3.6/lib/python3.6/http/client.py\u001b[0m in \u001b[0;36mgetresponse\u001b[0;34m(self)\u001b[0m\n\u001b[1;32m   1329\u001b[0m         \u001b[0;32mtry\u001b[0m\u001b[0;34m:\u001b[0m\u001b[0;34m\u001b[0m\u001b[0m\n\u001b[1;32m   1330\u001b[0m             \u001b[0;32mtry\u001b[0m\u001b[0;34m:\u001b[0m\u001b[0;34m\u001b[0m\u001b[0m\n\u001b[0;32m-> 1331\u001b[0;31m                 \u001b[0mresponse\u001b[0m\u001b[0;34m.\u001b[0m\u001b[0mbegin\u001b[0m\u001b[0;34m(\u001b[0m\u001b[0;34m)\u001b[0m\u001b[0;34m\u001b[0m\u001b[0m\n\u001b[0m\u001b[1;32m   1332\u001b[0m             \u001b[0;32mexcept\u001b[0m \u001b[0mConnectionError\u001b[0m\u001b[0;34m:\u001b[0m\u001b[0;34m\u001b[0m\u001b[0m\n\u001b[1;32m   1333\u001b[0m                 \u001b[0mself\u001b[0m\u001b[0;34m.\u001b[0m\u001b[0mclose\u001b[0m\u001b[0;34m(\u001b[0m\u001b[0;34m)\u001b[0m\u001b[0;34m\u001b[0m\u001b[0m\n",
      "\u001b[0;32m/Library/Frameworks/Python.framework/Versions/3.6/lib/python3.6/http/client.py\u001b[0m in \u001b[0;36mbegin\u001b[0;34m(self)\u001b[0m\n\u001b[1;32m    295\u001b[0m         \u001b[0;31m# read until we get a non-100 response\u001b[0m\u001b[0;34m\u001b[0m\u001b[0;34m\u001b[0m\u001b[0m\n\u001b[1;32m    296\u001b[0m         \u001b[0;32mwhile\u001b[0m \u001b[0;32mTrue\u001b[0m\u001b[0;34m:\u001b[0m\u001b[0;34m\u001b[0m\u001b[0m\n\u001b[0;32m--> 297\u001b[0;31m             \u001b[0mversion\u001b[0m\u001b[0;34m,\u001b[0m \u001b[0mstatus\u001b[0m\u001b[0;34m,\u001b[0m \u001b[0mreason\u001b[0m \u001b[0;34m=\u001b[0m \u001b[0mself\u001b[0m\u001b[0;34m.\u001b[0m\u001b[0m_read_status\u001b[0m\u001b[0;34m(\u001b[0m\u001b[0;34m)\u001b[0m\u001b[0;34m\u001b[0m\u001b[0m\n\u001b[0m\u001b[1;32m    298\u001b[0m             \u001b[0;32mif\u001b[0m \u001b[0mstatus\u001b[0m \u001b[0;34m!=\u001b[0m \u001b[0mCONTINUE\u001b[0m\u001b[0;34m:\u001b[0m\u001b[0;34m\u001b[0m\u001b[0m\n\u001b[1;32m    299\u001b[0m                 \u001b[0;32mbreak\u001b[0m\u001b[0;34m\u001b[0m\u001b[0m\n",
      "\u001b[0;32m/Library/Frameworks/Python.framework/Versions/3.6/lib/python3.6/http/client.py\u001b[0m in \u001b[0;36m_read_status\u001b[0;34m(self)\u001b[0m\n\u001b[1;32m    256\u001b[0m \u001b[0;34m\u001b[0m\u001b[0m\n\u001b[1;32m    257\u001b[0m     \u001b[0;32mdef\u001b[0m \u001b[0m_read_status\u001b[0m\u001b[0;34m(\u001b[0m\u001b[0mself\u001b[0m\u001b[0;34m)\u001b[0m\u001b[0;34m:\u001b[0m\u001b[0;34m\u001b[0m\u001b[0m\n\u001b[0;32m--> 258\u001b[0;31m         \u001b[0mline\u001b[0m \u001b[0;34m=\u001b[0m \u001b[0mstr\u001b[0m\u001b[0;34m(\u001b[0m\u001b[0mself\u001b[0m\u001b[0;34m.\u001b[0m\u001b[0mfp\u001b[0m\u001b[0;34m.\u001b[0m\u001b[0mreadline\u001b[0m\u001b[0;34m(\u001b[0m\u001b[0m_MAXLINE\u001b[0m \u001b[0;34m+\u001b[0m \u001b[0;36m1\u001b[0m\u001b[0;34m)\u001b[0m\u001b[0;34m,\u001b[0m \u001b[0;34m\"iso-8859-1\"\u001b[0m\u001b[0;34m)\u001b[0m\u001b[0;34m\u001b[0m\u001b[0m\n\u001b[0m\u001b[1;32m    259\u001b[0m         \u001b[0;32mif\u001b[0m \u001b[0mlen\u001b[0m\u001b[0;34m(\u001b[0m\u001b[0mline\u001b[0m\u001b[0;34m)\u001b[0m \u001b[0;34m>\u001b[0m \u001b[0m_MAXLINE\u001b[0m\u001b[0;34m:\u001b[0m\u001b[0;34m\u001b[0m\u001b[0m\n\u001b[1;32m    260\u001b[0m             \u001b[0;32mraise\u001b[0m \u001b[0mLineTooLong\u001b[0m\u001b[0;34m(\u001b[0m\u001b[0;34m\"status line\"\u001b[0m\u001b[0;34m)\u001b[0m\u001b[0;34m\u001b[0m\u001b[0m\n",
      "\u001b[0;32m/Library/Frameworks/Python.framework/Versions/3.6/lib/python3.6/socket.py\u001b[0m in \u001b[0;36mreadinto\u001b[0;34m(self, b)\u001b[0m\n\u001b[1;32m    584\u001b[0m         \u001b[0;32mwhile\u001b[0m \u001b[0;32mTrue\u001b[0m\u001b[0;34m:\u001b[0m\u001b[0;34m\u001b[0m\u001b[0m\n\u001b[1;32m    585\u001b[0m             \u001b[0;32mtry\u001b[0m\u001b[0;34m:\u001b[0m\u001b[0;34m\u001b[0m\u001b[0m\n\u001b[0;32m--> 586\u001b[0;31m                 \u001b[0;32mreturn\u001b[0m \u001b[0mself\u001b[0m\u001b[0;34m.\u001b[0m\u001b[0m_sock\u001b[0m\u001b[0;34m.\u001b[0m\u001b[0mrecv_into\u001b[0m\u001b[0;34m(\u001b[0m\u001b[0mb\u001b[0m\u001b[0;34m)\u001b[0m\u001b[0;34m\u001b[0m\u001b[0m\n\u001b[0m\u001b[1;32m    587\u001b[0m             \u001b[0;32mexcept\u001b[0m \u001b[0mtimeout\u001b[0m\u001b[0;34m:\u001b[0m\u001b[0;34m\u001b[0m\u001b[0m\n\u001b[1;32m    588\u001b[0m                 \u001b[0mself\u001b[0m\u001b[0;34m.\u001b[0m\u001b[0m_timeout_occurred\u001b[0m \u001b[0;34m=\u001b[0m \u001b[0;32mTrue\u001b[0m\u001b[0;34m\u001b[0m\u001b[0m\n",
      "\u001b[0;31mKeyboardInterrupt\u001b[0m: "
     ]
    }
   ],
   "source": [
    "#Day Ahead price\n",
    "DAM_zips = API.get_historical_zips(t0,tf,market='Day_Ahead')"
   ]
  },
  {
   "cell_type": "code",
   "execution_count": null,
   "metadata": {
    "scrolled": true
   },
   "outputs": [],
   "source": [
    "#15 min Real Time  price\n",
    "RTM15_zips = API.get_historical_zips(t0,tf,market='15min_Real_Time')"
   ]
  },
  {
   "cell_type": "code",
   "execution_count": null,
   "metadata": {},
   "outputs": [],
   "source": [
    "#5 min Real Time  price\n",
    "RTM5_zips = API.get_historical_zips(t0,tf,market='5min_Real_Time')"
   ]
  },
  {
   "cell_type": "code",
   "execution_count": 12,
   "metadata": {},
   "outputs": [],
   "source": [
    "#zip to dictionary extraction\n",
    "DAM = API.organize(market='Day_Ahead')"
   ]
  },
  {
   "cell_type": "code",
   "execution_count": 35,
   "metadata": {},
   "outputs": [],
   "source": [
    "#convert dictionary to dataframe\n",
    "df_DAM = API.to_dataframe(DAM)"
   ]
  },
  {
   "cell_type": "code",
   "execution_count": null,
   "metadata": {},
   "outputs": [],
   "source": [
    "#zip to dictionary\n",
    "RTM_15 = API.organize(market='15min_Real_Time')"
   ]
  },
  {
   "cell_type": "code",
   "execution_count": null,
   "metadata": {},
   "outputs": [],
   "source": [
    "#convert dictionary to dataframe\n",
    "df_RTM15 = API.to_dataframe(RTM_15)"
   ]
  },
  {
   "cell_type": "code",
   "execution_count": null,
   "metadata": {},
   "outputs": [],
   "source": [
    "#zip to dictionary\n",
    "RTM_5 = API.organize(market='5min_Real_Time')"
   ]
  },
  {
   "cell_type": "code",
   "execution_count": null,
   "metadata": {},
   "outputs": [],
   "source": [
    "#convert to dataframe\n",
    "df_RTM5 = API.to_dataframe(RTM_5)"
   ]
  },
  {
   "cell_type": "code",
   "execution_count": 2,
   "metadata": {
    "scrolled": true
   },
   "outputs": [
    {
     "ename": "NameError",
     "evalue": "name 'df_DAM' is not defined",
     "output_type": "error",
     "traceback": [
      "\u001b[0;31m---------------------------------------------------------------------------\u001b[0m",
      "\u001b[0;31mNameError\u001b[0m                                 Traceback (most recent call last)",
      "\u001b[0;32m<ipython-input-2-3d9ca5d39bd6>\u001b[0m in \u001b[0;36m<module>\u001b[0;34m()\u001b[0m\n\u001b[1;32m      1\u001b[0m \u001b[0;31m#pickle the raw data\u001b[0m\u001b[0;34m\u001b[0m\u001b[0;34m\u001b[0m\u001b[0m\n\u001b[1;32m      2\u001b[0m \u001b[0mfname\u001b[0m \u001b[0;34m=\u001b[0m \u001b[0;34m(\u001b[0m\u001b[0;34m'MiraLoma_2018.p'\u001b[0m\u001b[0;34m)\u001b[0m\u001b[0;34m\u001b[0m\u001b[0m\n\u001b[0;32m----> 3\u001b[0;31m \u001b[0mraw\u001b[0m \u001b[0;34m=\u001b[0m \u001b[0;34m{\u001b[0m \u001b[0;34m\"df_DAM\"\u001b[0m\u001b[0;34m:\u001b[0m \u001b[0mdf_DAM\u001b[0m\u001b[0;34m,\u001b[0m \u001b[0;34m\"df_RTM5\"\u001b[0m\u001b[0;34m:\u001b[0m \u001b[0mdf_RTM5\u001b[0m\u001b[0;34m,\u001b[0m \u001b[0;34m\"df_RTM15\"\u001b[0m\u001b[0;34m:\u001b[0m \u001b[0mdf_RTM15\u001b[0m\u001b[0;34m}\u001b[0m\u001b[0;34m\u001b[0m\u001b[0m\n\u001b[0m\u001b[1;32m      4\u001b[0m \u001b[0mpickle\u001b[0m\u001b[0;34m.\u001b[0m\u001b[0mdump\u001b[0m\u001b[0;34m(\u001b[0m\u001b[0mraw\u001b[0m\u001b[0;34m,\u001b[0m \u001b[0mopen\u001b[0m\u001b[0;34m(\u001b[0m\u001b[0mfname\u001b[0m\u001b[0;34m,\u001b[0m \u001b[0;34m\"wb\"\u001b[0m \u001b[0;34m)\u001b[0m \u001b[0;34m)\u001b[0m\u001b[0;34m\u001b[0m\u001b[0m\n",
      "\u001b[0;31mNameError\u001b[0m: name 'df_DAM' is not defined"
     ]
    }
   ],
   "source": [
    "#pickle the raw data\n",
    "fname = ('MiraLoma_2018.p')\n",
    "raw = { \"df_DAM\": df_DAM, \"df_RTM5\": df_RTM5, \"df_RTM15\": df_RTM15}\n",
    "pickle.dump(raw, open(fname, \"wb\" ) )"
   ]
  },
  {
   "cell_type": "code",
   "execution_count": 39,
   "metadata": {},
   "outputs": [],
   "source": [
    "#save csv for other people\n",
    "df_DAM.to_csv('MiraLoma_2018_DA_rates',index=True)"
   ]
  },
  {
   "cell_type": "code",
   "execution_count": 37,
   "metadata": {},
   "outputs": [],
   "source": [
    "#save csv for other people\n",
    "df_RTM5.to_csv('MiraLoma_2018_RTM5_rates',index=True)"
   ]
  },
  {
   "cell_type": "code",
   "execution_count": 38,
   "metadata": {},
   "outputs": [],
   "source": [
    "#save csv for other people\n",
    "df_RTM15.to_csv('MiraLoma_2018_RTM15_rates',index=True)"
   ]
  },
  {
   "cell_type": "code",
   "execution_count": 3,
   "metadata": {},
   "outputs": [],
   "source": [
    "#load the raw pickle data\n",
    "fname = ('MiraLoma_2018.p')\n",
    "raw = pickle.load( open(fname, \"rb\" ))\n",
    "df_DAM = raw[\"df_DAM\"]\n",
    "df_RTM5 = raw[\"df_RTM5\"]\n",
    "df_RTM15 = raw[\"df_RTM15\"]"
   ]
  },
  {
   "cell_type": "code",
   "execution_count": 4,
   "metadata": {},
   "outputs": [
    {
     "data": {
      "text/plain": [
       "<matplotlib.legend.Legend at 0x105058278>"
      ]
     },
     "execution_count": 4,
     "metadata": {},
     "output_type": "execute_result"
    },
    {
     "data": {
      "image/png": "[encoded data removed]",
      "text/plain": [
       "<matplotlib.figure.Figure at 0x111e01c88>"
      ]
     },
     "metadata": {},
     "output_type": "display_data"
    }
   ],
   "source": [
    "plt.rcParams['figure.figsize'] = [15, 10]\n",
    "fig, ax = plt.subplots()\n",
    "df_DAM.plot(x='index',y='rate', ax=ax, label = 'DAM',linewidth=3)\n",
    "ax.set_ylabel('$/MWh')\n",
    "df_RTM5.plot(x='Rate Start',y='Rate ($/MWh)', ax=ax, label = '5min_RTM',linewidth=2)\n",
    "df_RTM15.plot(x='index',y='rate', ax=ax, label = '15min_RTM',linewidth=1)\n",
    "plt.legend()"
   ]
  },
  {
   "cell_type": "code",
   "execution_count": null,
   "metadata": {},
   "outputs": [],
   "source": [
    "#define index to resample\n",
    "df_DAM_idx = df_DAM.set_index('Rate Start')\n",
    "df_RTM15_idx = df_RTM15.set_index('Rate Start')\n",
    "df_RTM5_idx = df_RTM5.set_index('Rate Start')\n",
    "\n",
    "#resample to the 15 minute with interpolation\n",
    "df_DAM_15min = df_DAM_idx.resample('15T').interpolate(method='linear')\n",
    "#resample to the 5 minute with interpolation\n",
    "df_DAM_5min = df_DAM_idx.resample('5T').interpolate(method='linear')\n",
    "df_RTM15_5min = df_RTM15_idx.resample('5T').interpolate(method='linear')\n",
    "#drop the last rows of 15 and 5 min data to make the lengths equal\n",
    "df_RTM_15min_eql = df_RTM15_5min[:-9]\n",
    "df_RTM_5min_eql = df_RTM5_idx[:-11]\n",
    "#check the lengths before the drop \n",
    "print(len(df_DAM_5min),len(df_RTM15_5min),len(df_RTM5_idx))\n",
    "#all the dataframes are the same length\n",
    "print(len(df_DAM_5min),len(df_RTM_5min_eql),len(df_RTM_15min_eql))"
   ]
  },
  {
   "cell_type": "code",
   "execution_count": null,
   "metadata": {},
   "outputs": [],
   "source": [
    "arb_5 = []\n",
    "arb_15 = []\n",
    "for x,y,z in zip(df_DAM_5min['Rate ($/MWh)'],df_RTM_5min_eql['Rate ($/MWh)'],df_RTM_15min_eql['Rate ($/MWh)']):\n",
    "    if y > x:\n",
    "        arb_5.append(y-x)\n",
    "    if z > x:\n",
    "        arb_15.append(z-x)\n",
    "\n",
    "print(df_DAM_5min['Rate ($/MWh)'].mean())        \n",
    "print(df_RTM_5min_eql['Rate ($/MWh)'].mean())        \n",
    "print(df_RTM_15min_eql['Rate ($/MWh)'].mean())        \n",
    "\n",
    "#5 min arb prop\n",
    "print(len(arb_5)/len(df_DAM_5min))\n",
    "#15 min arb prop\n",
    "print(len(arb_15)/len(df_DAM_5min))"
   ]
  },
  {
   "cell_type": "code",
   "execution_count": null,
   "metadata": {},
   "outputs": [],
   "source": [
    "#find how much money is to be made in a perfect world. \n",
    "\n",
    "#assume we have 1MW of play\n",
    "#this is 5 min $/MWh\n",
    "print(sum(arb_5)/12)\n",
    "print(sum(arb_15)/12)"
   ]
  },
  {
   "cell_type": "code",
   "execution_count": null,
   "metadata": {},
   "outputs": [],
   "source": [
    "                        periods[date] = sorted(periods[date], key=lambda k: k['rate_start'])\n",
    "\n",
    "\n",
    "\n",
    "#         rate_periods = []\n",
    "#         #go through z\n",
    "#         for request in requests:\n",
    "#             dat = io.BytesIO(request.content)\n",
    "#             assert zipfile.is_zipfile(dat) == True\n",
    "#             z = zipfile.ZipFile(dat)\n",
    "#             files = z.namelist()\n",
    "#             if len(files) > 0:\n",
    "#                 # create a new directory to put our results in\n",
    "#                 if not os.path.exists('./oasis_results/'):\n",
    "#                     os.makedirs('./oasis_results/')\n",
    "#                 z.extractall('./oasis_results/')\n",
    "\n",
    "#                 # let's assume there is only 1 file for now\n",
    "#                 filename = './oasis_results/{}'.format(files[0])\n",
    "\n",
    "        \n",
    "    \n",
    "    \n",
    "    \n",
    "    \n",
    "    \n",
    "#     #for data across months\n",
    "#         else:\n",
    "#             if t0_get.month != 12:\n",
    "# #                 t_chunk = t0_get.replace(month = t0_get.month + 1)\n",
    "# #             else:\n",
    "# #                 t_chunk = t0_get.replace(year = t0_get.year + 1, month = 1)\n",
    "# #             t_list.append((t0_get,t_chunk))\n",
    "# #             while t_chunk <= tf:\n",
    "# #                 t_chunk0 = t_chunk\n",
    "# #                 if t_chunk.month != 12:\n",
    "# #                     t_chunk = t_chunk.replace(month = t_chunk.month + 1)\n",
    "# #                 else:\n",
    "# #                     t_chunk = t_chunk.replace(year = t_chunk.year + 1, month = 1)\n",
    "# #                 t_list.append((t_chunk0,t_chunk))\n",
    "#         return t_list\n",
    "\n",
    "\n",
    "#         #convert to data frame\n",
    "#         df = pd.DataFrame(columns=['Rate Start', 'Rate End', 'Rate ($/MWh)'])\n",
    "#         for v in data.values():\n",
    "#             ti = datetime.strptime(v['rate_start'],\"%Y-%m-%dT%H:%M\")\n",
    "#             ti_1 = datetime.strptime(v['rate_end'],\"%Y-%m-%dT%H:%M\")\n",
    "#             df = df.append({'Rate Start': ti, 'Rate End': ti_1, 'Rate ($/MWh)': float(v['rate'])},ignore_index=True)\n"
   ]
  }
 ],
 "metadata": {
  "kernelspec": {
   "display_name": "Python 3",
   "language": "python",
   "name": "python3"
  },
  "language_info": {
   "codemirror_mode": {
    "name": "ipython",
    "version": 3
   },
   "file_extension": ".py",
   "mimetype": "text/x-python",
   "name": "python",
   "nbconvert_exporter": "python",
   "pygments_lexer": "ipython3",
   "version": "3.6.5"
  }
 },
 "nbformat": 4,
 "nbformat_minor": 2
}
